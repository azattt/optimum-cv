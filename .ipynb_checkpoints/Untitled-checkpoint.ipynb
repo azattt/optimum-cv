{
 "cells": [
  {
   "cell_type": "code",
   "execution_count": 1,
   "id": "498b5c76",
   "metadata": {},
   "outputs": [],
   "source": [
    "from arcgis.mapping import VectorTileLayer\n",
    "\n",
    "\n",
    "layer = VectorTileLayer(url=\"https://pkk.rosreestr.ru/arcgis/rest/services/Hosted/caddivsion/VectorTileServer\")"
   ]
  },
  {
   "cell_type": "code",
   "execution_count": 4,
   "id": "9d7e40a2",
   "metadata": {},
   "outputs": [
    {
     "data": {
      "text/plain": [
       "<VectorTileLayer url:\"https://pkk.rosreestr.ru/arcgis/rest/services/Hosted/caddivsion/VectorTileServer\">"
      ]
     },
     "execution_count": 4,
     "metadata": {},
     "output_type": "execute_result"
    }
   ],
   "source": [
    "layer.export_tiles"
   ]
  },
  {
   "cell_type": "code",
   "execution_count": null,
   "id": "9c6a20d1",
   "metadata": {},
   "outputs": [],
   "source": []
  }
 ],
 "metadata": {
  "kernelspec": {
   "display_name": "Python 3 (ipykernel)",
   "language": "python",
   "name": "python3"
  },
  "language_info": {
   "codemirror_mode": {
    "name": "ipython",
    "version": 3
   },
   "file_extension": ".py",
   "mimetype": "text/x-python",
   "name": "python",
   "nbconvert_exporter": "python",
   "pygments_lexer": "ipython3",
   "version": "3.11.8"
  }
 },
 "nbformat": 4,
 "nbformat_minor": 5
}
